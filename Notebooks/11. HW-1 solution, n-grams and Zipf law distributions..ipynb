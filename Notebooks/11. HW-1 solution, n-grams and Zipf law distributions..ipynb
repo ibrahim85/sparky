{
 "cells": [
  {
   "cell_type": "code",
   "execution_count": 1,
   "metadata": {
    "collapsed": true,
    "slideshow": {
     "slide_type": "slide"
    }
   },
   "outputs": [],
   "source": [
    "import re\n",
    "\n",
    "def removePunctuation(text):\n",
    "    text=re.sub(\"[^0-9a-zA-Z ]\", \" \", text)\n",
    "    return text"
   ]
  },
  {
   "cell_type": "code",
   "execution_count": 3,
   "metadata": {
    "collapsed": false,
    "slideshow": {
     "slide_type": "subslide"
    }
   },
   "outputs": [],
   "source": [
    "textRDD = sc.newAPIHadoopFile('../Data/Moby-Dick-Edited.txt',\n",
    "                              'org.apache.hadoop.mapreduce.lib.input.TextInputFormat',\n",
    "                              'org.apache.hadoop.io.LongWritable',\n",
    "                              'org.apache.hadoop.io.Text',\n",
    "                               conf={'textinputformat.record.delimiter': \"\\r\\n\\r\\n\"}) \\\n",
    "            .map(lambda p: p[1])\n",
    "\n",
    "sentences=textRDD.flatMap(lambda x: x.split(\". \"))"
   ]
  },
  {
   "cell_type": "code",
   "execution_count": 4,
   "metadata": {
    "collapsed": false,
    "slideshow": {
     "slide_type": "subslide"
    }
   },
   "outputs": [
    {
     "data": {
      "text/plain": [
       "[u'moby dick  or the whale', u'by herman melville', u'']"
      ]
     },
     "execution_count": 4,
     "metadata": {},
     "output_type": "execute_result"
    }
   ],
   "source": [
    "sentences = sentences.map(removePunctuation).map(lambda x: x.lower())\n",
    "sentences.take(3)"
   ]
  },
  {
   "cell_type": "code",
   "execution_count": 7,
   "metadata": {
    "collapsed": false,
    "slideshow": {
     "slide_type": "subslide"
    }
   },
   "outputs": [
    {
     "data": {
      "text/plain": [
       "[((u'moby', u'dick'), 1), ((u'dick', u'or'), 1), ((u'or', u'the'), 1)]"
      ]
     },
     "execution_count": 7,
     "metadata": {},
     "output_type": "execute_result"
    }
   ],
   "source": [
    "k=2  # k is part of the environment variables of the function. Spark sends the value of the referenced variables \n",
    "     # to the slave nodes.\n",
    "sc.broadcast(k)\n",
    "def ngram(sentence):\n",
    "    \"\"\"\n",
    "    :return: (ngram, 1)\n",
    "    \"\"\"\n",
    "    for i in range(len(sentence)-k):\n",
    "        yield (tuple(sentence[i:i+k]), 1)\n",
    "        \n",
    "list(ngram(sentences.map(lambda x:x.split()).first()))"
   ]
  },
  {
   "cell_type": "code",
   "execution_count": 9,
   "metadata": {
    "collapsed": false,
    "slideshow": {
     "slide_type": "subslide"
    }
   },
   "outputs": [
    {
     "name": "stdout",
     "output_type": "stream",
     "text": [
      "\n",
      "============ 5 most frequent 1-grams\n",
      "\n",
      "index\tcount\tngram\n",
      "1.\t14440: \t\"the\"\n",
      "2.\t6608: \t\"of\"\n",
      "3.\t6432: \t\"and\"\n",
      "4.\t4741: \t\"a\"\n",
      "5.\t4609: \t\"to\"\n",
      "\n",
      "============ 5 most frequent 2-grams\n",
      "\n",
      "index\tcount\tngram\n",
      "1.\t1880: \t\"of the\"\n",
      "2.\t1179: \t\"in the\"\n",
      "3.\t730: \t\"to the\"\n",
      "4.\t441: \t\"from the\"\n",
      "5.\t376: \t\"the whale\"\n",
      "\n",
      "============ 5 most frequent 3-grams\n",
      "\n",
      "index\tcount\tngram\n",
      "1.\t109: \t\"the sperm whale\"\n",
      "2.\t93: \t\"of the whale\"\n",
      "3.\t79: \t\"the white whale\"\n",
      "4.\t64: \t\"one of the\"\n",
      "5.\t58: \t\"out of the\"\n",
      "\n",
      "============ 5 most frequent 4-grams\n",
      "\n",
      "index\tcount\tngram\n",
      "1.\t39: \t\"of the sperm whale\"\n",
      "2.\t26: \t\"the sperm whale s\"\n",
      "3.\t20: \t\"at the same time\"\n",
      "4.\t18: \t\"of the whale s\"\n",
      "5.\t17: \t\"the bottom of the\"\n",
      "\n",
      "============ 5 most frequent 5-grams\n",
      "\n",
      "index\tcount\tngram\n",
      "1.\t11: \t\"of the sperm whale s\"\n",
      "2.\t10: \t\"and at the same time\"\n",
      "3.\t7: \t\"the bottom of the sea\"\n",
      "4.\t7: \t\"the sperm whale s head\"\n",
      "5.\t6: \t\"what s the matter with\"\n"
     ]
    }
   ],
   "source": [
    "from operator import add \n",
    "freq_ngrams = [None]*6\n",
    "for k in range(1,6):\n",
    "    ngrams = sentences.map(lambda x: x.split()).flatMap(ngram)\n",
    "    freq_ngrams[k] = ngrams.reduceByKey(add).map(lambda (k, v): (v, k)).sortByKey(False)\n",
    "    m = 5\n",
    "    top = freq_ngrams[k].take(m)\n",
    "    print '\\n============ %d most frequent %d-grams'% (m, k)\n",
    "    print '\\nindex\\tcount\\tngram'\n",
    "    for i in range(m):\n",
    "        cnt, gram = top[i]\n",
    "        print '%d.\\t%d: \\t\"%s\"'%(i+1, cnt, ' '.join(gram))"
   ]
  },
  {
   "cell_type": "code",
   "execution_count": 10,
   "metadata": {
    "collapsed": false,
    "slideshow": {
     "slide_type": "subslide"
    }
   },
   "outputs": [],
   "source": [
    "count_grams = [[cnt for cnt, gram in freq_ngrams[j].collect()] for j in range(1,6)]"
   ]
  },
  {
   "cell_type": "code",
   "execution_count": 12,
   "metadata": {
    "collapsed": false,
    "slideshow": {
     "slide_type": "skip"
    }
   },
   "outputs": [],
   "source": [
    "%matplotlib inline"
   ]
  },
  {
   "cell_type": "markdown",
   "metadata": {
    "slideshow": {
     "slide_type": "slide"
    }
   },
   "source": [
    "### Plotting word frequency\n",
    "We can try to plot the number of times each word occurs as a function of the rank of the word. However, the resulting graphs are not very insightful."
   ]
  },
  {
   "cell_type": "code",
   "execution_count": 13,
   "metadata": {
    "collapsed": false,
    "slideshow": {
     "slide_type": "subslide"
    }
   },
   "outputs": [
    {
     "data": {
      "text/plain": [
       "[<matplotlib.lines.Line2D at 0x7f9450a41d50>]"
      ]
     },
     "execution_count": 13,
     "metadata": {},
     "output_type": "execute_result"
    },
    {
     "data": {
      "image/png": "[encoded data removed]",
      "text/plain": [
       "<matplotlib.figure.Figure at 0x7f9450afde50>"
      ]
     },
     "metadata": {},
     "output_type": "display_data"
    }
   ],
   "source": [
    "figure(figsize=(10, 10))\n",
    "plot(count_grams[1])"
   ]
  },
  {
   "cell_type": "markdown",
   "metadata": {
    "slideshow": {
     "slide_type": "subslide"
    }
   },
   "source": [
    "### Using log-log plots\n",
    "to better see the relation between the rank and the frequency, we use a log-log plot. THis is a plot in which both the X and the Y coordinate are scaled using $\\log$. This allows us to look at changes aong many orders of magnitude.\n",
    "\n",
    "$\\log$ on x-axis & $\\log$ on y-axis."
   ]
  },
  {
   "cell_type": "code",
   "execution_count": 17,
   "metadata": {
    "collapsed": false,
    "scrolled": true,
    "slideshow": {
     "slide_type": "subslide"
    }
   },
   "outputs": [
    {
     "data": {
      "image/png": "[encoded data removed]",
      "text/plain": [
       "<matplotlib.figure.Figure at 0x7f944af94950>"
      ]
     },
     "metadata": {},
     "output_type": "display_data"
    }
   ],
   "source": [
    "figure(figsize=(10, 10))\n",
    "for i in xrange(5):\n",
    "    loglog(count_grams[i],label=str(i+1)+'gram')\n",
    "    \n",
    "xlabel('Rank')\n",
    "ylabel('Count')\n",
    "xlim([1, 10**5])\n",
    "legend()\n",
    "grid()"
   ]
  },
  {
   "cell_type": "markdown",
   "metadata": {
    "slideshow": {
     "slide_type": "subslide"
    }
   },
   "source": [
    "###  Interpretation of the log-log graph - Power-Law distribution\n",
    "Note that the graphs are approximately straight lines. \n",
    "because if we take the log of both sides we get a linear relation between the logs:\n",
    "$$ \\log (\\mbox{count}) = -\\alpha \\log(\\mbox{rank}) $$\n",
    "\n",
    "This corresponds to dependencies of the form\n",
    "$$ \\mbox{count} = \\frac{1}{\\mbox{rank}^\\alpha}$$\n",
    "\n",
    "\n",
    "Note that for the Unigrams the slope is close to $\\alpha=1$.  \n",
    "\n",
    "Instead of looking at frequencies, we can divide by the total number of occurances and get a formula for the probability of the word at rank $r$: \n",
    "$$P(r) = \\frac{C}{r^\\alpha}$$ \n",
    "where $C$ is a normalization factor.\n",
    "\n",
    "But this raises a difficulty, is it possible to define a distribution using this formula for $\\alpha=1$?\n",
    "\n",
    "This type of distribution is called a Power-Law distribution, or a [Zipf's Law](https://en.wikipedia.org/wiki/Zipf%27s_law). Such distributions are **very common in natural language analysis** and in many other domains, from the distribution of the magnitude of earth-quakes, to the distribution in the size of towns and cities.\n",
    "\n",
    "An Important aspect of power law is that a large number of small counts make a large fraction of the total. This causes problems in statistical analysis, as we will see below."
   ]
  },
  {
   "cell_type": "markdown",
   "metadata": {
    "slideshow": {
     "slide_type": "slide"
    }
   },
   "source": [
    "### Studying the statistical significance of bigrams\n",
    "\n",
    "We are going to use the statistical relationship between words in a bigram to identify word pairs that are characteristic of Moby Dick.\n",
    "\n",
    "The idea is that bigrams that appear many times are more significant than those that appear a few times.\n",
    "\n",
    "For easier manipulation, we organize the unigrams and bigrams as DataFrames."
   ]
  },
  {
   "cell_type": "code",
   "execution_count": 20,
   "metadata": {
    "collapsed": false,
    "slideshow": {
     "slide_type": "subslide"
    }
   },
   "outputs": [
    {
     "name": "stdout",
     "output_type": "stream",
     "text": [
      "number of unigrams= 211152.0 number of bigrams= 203700.0\n"
     ]
    }
   ],
   "source": [
    "# compute total number of Bigrams and Unigrams to calculate probabilities\n",
    "n_uni = freq_ngrams[1].map(lambda (n,v): n).reduce(add)+0.0\n",
    "n_bi = freq_ngrams[2].map(lambda (n,v): n).reduce(add)+0.0\n",
    "print 'number of unigrams=', n_uni,'number of bigrams=', n_bi"
   ]
  },
  {
   "cell_type": "markdown",
   "metadata": {},
   "source": [
    "## SQL\n",
    "**Why schema**. Schema as structured data in lieu of nested tuple. Turning unstructured data to structured data."
   ]
  },
  {
   "cell_type": "code",
   "execution_count": 23,
   "metadata": {
    "collapsed": true
   },
   "outputs": [],
   "source": [
    "sqlContext = SQLContext(sc)\n",
    "from pyspark.sql.types import Row, StructField, StructType, StringType, IntegerType, FloatType"
   ]
  },
  {
   "cell_type": "code",
   "execution_count": 22,
   "metadata": {
    "collapsed": false,
    "scrolled": true,
    "slideshow": {
     "slide_type": "subslide"
    }
   },
   "outputs": [
    {
     "data": {
      "text/plain": [
       "[Row(word=u'the', count=14440, prob=0.0683867558836937),\n",
       " Row(word=u'of', count=6608, prob=0.031294990330934525),\n",
       " Row(word=u'and', count=6432, prob=0.030461467802524567),\n",
       " Row(word=u'a', count=4741, prob=0.02245301939547062),\n",
       " Row(word=u'to', count=4609, prob=0.021827878430485725)]"
      ]
     },
     "execution_count": 22,
     "metadata": {},
     "output_type": "execute_result"
    }
   ],
   "source": [
    "schema = StructType([StructField(\"word\", StringType(), False),\n",
    "                     StructField(\"count\", IntegerType(), False),\n",
    "                     StructField(\"prob\", FloatType(), False)])\n",
    "\n",
    "unigram = sqlContext.createDataFrame(freq_ngrams[1].map(lambda (cnt,v): (v[0], cnt, float(cnt/n_uni))), schema)\n",
    "unigram.take(5)"
   ]
  },
  {
   "cell_type": "code",
   "execution_count": 25,
   "metadata": {
    "collapsed": false,
    "slideshow": {
     "slide_type": "subslide"
    }
   },
   "outputs": [
    {
     "data": {
      "text/plain": [
       "[Row(word1=u'of', word2=u'the', pair_count=1880, pair_prob=0.009229258634150028),\n",
       " Row(word1=u'in', word2=u'the', pair_count=1179, pair_prob=0.005787923466414213),\n",
       " Row(word1=u'to', word2=u'the', pair_count=730, pair_prob=0.0035837015602737665),\n",
       " Row(word1=u'from', word2=u'the', pair_count=441, pair_prob=0.0021649484988301992),\n",
       " Row(word1=u'the', word2=u'whale', pair_count=376, pair_prob=0.0018458517733961344)]"
      ]
     },
     "execution_count": 25,
     "metadata": {},
     "output_type": "execute_result"
    }
   ],
   "source": [
    "schema = StructType([StructField(\"word1\", StringType(), False),\n",
    "                     StructField(\"word2\", StringType(), False),\n",
    "                     StructField(\"pair_count\", IntegerType(), False),\n",
    "                     StructField(\"pair_prob\", FloatType(), False)])\n",
    "\n",
    "bigram = sqlContext.createDataFrame(freq_ngrams[2].map(lambda (cnt, v): (v[0], v[1], cnt, float(cnt/n_bi))),schema)\n",
    "bigram.take(5)"
   ]
  },
  {
   "cell_type": "markdown",
   "metadata": {
    "slideshow": {
     "slide_type": "subslide"
    }
   },
   "source": [
    "### The importance of a base model - simple ration, pre KL-divergence\n",
    "Looking at the list above, we realize that the fact that a particular pair appears many times in the text is not\n",
    "enough to make it significant. The top pairs in the list above: 'of the','in the', 'to the' are combinations of extremely common words. The high frequency of the pairs can be explained by the fact that the individual words are very common.\n",
    "\n",
    "To better measure this importance we need some way to quantify how \"surprising\" or \"unpredictable\" the high frequency of the word is. A common way to do that is to compare the frequency of the appearance of the pair to the frequency we would expect if the words were drawn independently at random.\n",
    "\n",
    "From the unigram counts we can estimate the probability of each word alone:\n",
    "$$ P(word)=\\frac{\\mbox{no. of occurances of word}}{\\mbox{total number of words}} $$\n",
    "\n",
    "Similarly, for each word pair `(word1,word2)` we can estimate a probability \n",
    "$$ P((word1,word2))=\\frac{\\mbox{no. of occurances of (word1,word2)}}{\\mbox{total number of word pairs}} $$\n",
    "\n",
    "If the two words are drawn independently, we expect to see $P((word1,words)) \\approx P(word1) P(word2)$\n",
    "While if the word pair is significantly frequent, $P((word1,words)) \\gg P(word1) P(word2)$.\n",
    "\n",
    "A natural way to quantify the significance is to look at the ratio:\n",
    "$$ \\mbox{ratio} \\triangleq \\frac{P((word1,word2))}{P(word1) P(word2)} $$\n",
    "\n",
    "(In fact, it is common to use the log of the ratio, which limits the extremes. Here I stick to ratio because the log caused some annoying problems which I have yet to fix).\n",
    "\n",
    "We will use the DataFrame [join](http://spark.apache.org/docs/latest/api/python/pyspark.sql.html#pyspark.sql.DataFrame.join) to bring together the information we need on each bigram."
   ]
  },
  {
   "cell_type": "code",
   "execution_count": 26,
   "metadata": {
    "collapsed": false,
    "slideshow": {
     "slide_type": "subslide"
    }
   },
   "outputs": [
    {
     "name": "stdout",
     "output_type": "stream",
     "text": [
      "CPU times: user 0 ns, sys: 80 ms, total: 80 ms\n",
      "Wall time: 17.7 s\n"
     ]
    }
   ],
   "source": [
    "%%time\n",
    "table = bigram.join(unigram, bigram.word1==unigram.word, 'inner')\\\n",
    "            .withColumnRenamed('prob', 'P1').withColumnRenamed('count', 'count1').drop('word')\n",
    "table = table.join(unigram, bigram.word2==unigram.word, 'inner')\\\n",
    "            .withColumnRenamed('prob', 'P2').withColumnRenamed('count', 'count2').drop('word')\n",
    "table = table.sort(\"pair_prob\", ascending=False).cache()"
   ]
  },
  {
   "cell_type": "code",
   "execution_count": 28,
   "metadata": {
    "collapsed": false,
    "slideshow": {
     "slide_type": "skip"
    }
   },
   "outputs": [
    {
     "data": {
      "text/plain": [
       "[Row(word1=u'marl', word2=u'bequeathed', pair_count=1, pair_prob=4.909180006507086e-06, count1=1, P1=4.73592490379815e-06, count2=1, P2=4.73592490379815e-06, ratio=218876.61084986816),\n",
       " Row(word1=u'sufficit', word2=u'si', pair_count=1, pair_prob=4.909180006507086e-06, count1=1, P1=4.73592490379815e-06, count2=1, P2=4.73592490379815e-06, ratio=218876.61084986816),\n",
       " Row(word1=u'antemosaic', word2=u'unsourced', pair_count=1, pair_prob=4.909180006507086e-06, count1=1, P1=4.73592490379815e-06, count2=1, P2=4.73592490379815e-06, ratio=218876.61084986816),\n",
       " Row(word1=u'knotty', word2=u'aroostook', pair_count=1, pair_prob=4.909180006507086e-06, count1=1, P1=4.73592490379815e-06, count2=1, P2=4.73592490379815e-06, ratio=218876.61084986816),\n",
       " Row(word1=u'habeat', word2=u'caput', pair_count=1, pair_prob=4.909180006507086e-06, count1=1, P1=4.73592490379815e-06, count2=1, P2=4.73592490379815e-06, ratio=218876.61084986816)]"
      ]
     },
     "execution_count": 28,
     "metadata": {},
     "output_type": "execute_result"
    }
   ],
   "source": [
    "import math\n",
    "def logCheck(x):\n",
    "    try:\n",
    "        return math.log(x)\n",
    "    except:\n",
    "        return -1.0\n",
    "    \n",
    "# .withColumn, adding/replacing a new column\n",
    "table2 = table.withColumn('ratio', table.pair_prob/(table.P1*table.P2)).sort('ratio', ascending=False).cache()\n",
    "table2.take(5)"
   ]
  },
  {
   "cell_type": "markdown",
   "metadata": {
    "slideshow": {
     "slide_type": "slide"
    }
   },
   "source": [
    "### No Filter of times of occurrences\n",
    "\n",
    "Filter tf is a common heuristics for NLP and Info retrieval analysis. \n",
    "\n",
    "If we use no filter all of the pairs that have the top ratio are pairs that occur once and that is the only occurance of both words"
   ]
  },
  {
   "cell_type": "code",
   "execution_count": 29,
   "metadata": {
    "collapsed": false,
    "scrolled": true,
    "slideshow": {
     "slide_type": "fragment"
    }
   },
   "outputs": [
    {
     "data": {
      "text/plain": [
       "[Row(word1=u'marl', word2=u'bequeathed', pair_count=1, count1=1, count2=1, ratio=218876.61084986816),\n",
       " Row(word1=u'sufficit', word2=u'si', pair_count=1, count1=1, count2=1, ratio=218876.61084986816),\n",
       " Row(word1=u'antemosaic', word2=u'unsourced', pair_count=1, count1=1, count2=1, ratio=218876.61084986816),\n",
       " Row(word1=u'knotty', word2=u'aroostook', pair_count=1, count1=1, count2=1, ratio=218876.61084986816),\n",
       " Row(word1=u'habeat', word2=u'caput', pair_count=1, count1=1, count2=1, ratio=218876.61084986816),\n",
       " Row(word1=u'clootz', word2=u'deputation', pair_count=1, count1=1, count2=1, ratio=218876.61084986816),\n",
       " Row(word1=u'nailest', word2=u'geese', pair_count=1, count1=1, count2=1, ratio=218876.61084986816),\n",
       " Row(word1=u'journeyman', word2=u'joiner', pair_count=1, count1=1, count2=1, ratio=218876.61084986816),\n",
       " Row(word1=u'nondescript', word2=u'provincialisms', pair_count=1, count1=1, count2=1, ratio=218876.61084986816),\n",
       " Row(word1=u'objected', word2=u'reserving', pair_count=1, count1=1, count2=1, ratio=218876.61084986816)]"
      ]
     },
     "execution_count": 29,
     "metadata": {},
     "output_type": "execute_result"
    }
   ],
   "source": [
    "# drop intermediate information \n",
    "table2.drop('pair_prob').drop('P1').drop('P2').take(10)"
   ]
  },
  {
   "cell_type": "markdown",
   "metadata": {
    "slideshow": {
     "slide_type": "slide"
    }
   },
   "source": [
    "### Keep pairs that appear more than 2 times\n",
    " Filtering words that appear 1 or 2 times still focused on very rare words. These word pairs can be treated as combined words, because they always appear together."
   ]
  },
  {
   "cell_type": "code",
   "execution_count": 30,
   "metadata": {
    "collapsed": false,
    "slideshow": {
     "slide_type": "fragment"
    }
   },
   "outputs": [
    {
     "data": {
      "text/plain": [
       "[Row(word1=u'jesty', word2=u'joky', pair_count=3, count1=3, count2=3, ratio=72958.87567098437),\n",
       " Row(word1=u'joky', word2=u'hoky', pair_count=3, count1=3, count2=3, ratio=72958.87567098437),\n",
       " Row(word1=u'gamy', word2=u'jesty', pair_count=3, count1=3, count2=3, ratio=72958.87567098437),\n",
       " Row(word1=u'sporty', word2=u'gamy', pair_count=3, count1=3, count2=3, ratio=72958.87567098437),\n",
       " Row(word1=u'sperma', word2=u'ceti', pair_count=3, count1=3, count2=3, ratio=72958.87567098437),\n",
       " Row(word1=u'hoky', word2=u'poky', pair_count=3, count1=3, count2=3, ratio=72958.87567098437),\n",
       " Row(word1=u'vinegar', word2=u'cruet', pair_count=4, count1=4, count2=4, ratio=54719.15271246704),\n",
       " Row(word1=u'ross', word2=u'browne', pair_count=3, count1=3, count2=5, ratio=43775.32600449505),\n",
       " Row(word1=u'funny', word2=u'sporty', pair_count=3, count1=5, count2=3, ratio=43775.32600449505),\n",
       " Row(word1=u'deacon', word2=u'deuteronomy', pair_count=4, count1=5, count2=4, ratio=43775.32284711603)]"
      ]
     },
     "execution_count": 30,
     "metadata": {},
     "output_type": "execute_result"
    }
   ],
   "source": [
    "table3 = table2.filter(table2.pair_count > 2).sort('ratio', ascending=False).cache()\n",
    "\n",
    "table3.drop('pair_prob').drop('P1').drop('P2').take(10)"
   ]
  },
  {
   "cell_type": "markdown",
   "metadata": {
    "slideshow": {
     "slide_type": "slide"
    }
   },
   "source": [
    "### Keep pairs with more than five occurances.\n",
    "Now we start to see more interesting pairs, these consist of words that appear often without the other, but still, have a strong tendency to appear together."
   ]
  },
  {
   "cell_type": "code",
   "execution_count": 31,
   "metadata": {
    "collapsed": false,
    "slideshow": {
     "slide_type": "fragment"
    }
   },
   "outputs": [
    {
     "data": {
      "text/plain": [
       "[Row(word1=u'samuel', word2=u'enderby', pair_count=6, count1=11, count2=7, ratio=17055.32004741664),\n",
       " Row(word1=u'sag', word2=u'harbor', pair_count=7, count1=8, count2=13, ratio=14732.079859033098),\n",
       " Row(word1=u'father', word2=u'mapple', pair_count=9, count1=25, count2=9, ratio=8755.065031667347),\n",
       " Row(word1=u'lamp', word2=u'feeder', pair_count=6, count1=26, count2=6, ratio=8418.331763670947),\n",
       " Row(word1=u'seventy', word2=u'seventh', pair_count=6, count1=22, count2=9, ratio=6632.624936638165),\n",
       " Row(word1=u'pivot', word2=u'hole', pair_count=7, count1=7, count2=42, ratio=5211.3476365044025),\n",
       " Row(word1=u'jack', word2=u'knife', pair_count=8, count1=14, count2=30, ratio=4169.078390959528),\n",
       " Row(word1=u'steering', word2=u'oar', pair_count=6, count1=13, count2=25, ratio=4040.799133731693),\n",
       " Row(word1=u'o', word2=u'clock', pair_count=11, count1=44, count2=14, ratio=3908.5108880848975),\n",
       " Row(word1=u'dough', word2=u'boy', pair_count=15, count1=17, count2=58, ratio=3329.7660623700663)]"
      ]
     },
     "execution_count": 31,
     "metadata": {},
     "output_type": "execute_result"
    }
   ],
   "source": [
    "table3=table2.filter(table2.pair_count > 5).sort('ratio', ascending=False).cache()\n",
    "\n",
    "table3.drop('pair_prob').drop('P1').drop('P2').take(10)"
   ]
  },
  {
   "cell_type": "markdown",
   "metadata": {
    "slideshow": {
     "slide_type": "slide"
    }
   },
   "source": [
    "### More than 10 occurances\n",
    "Now we see pairs that are characteristic to the book Moby Dick and are not overly rare. Note that many of the pairs relate to ships and Whaling.\n",
    "\n",
    "According to Wikipedia\n",
    "\n",
    "> **Dough Boy** is the pale, nervous steward of the ship."
   ]
  },
  {
   "cell_type": "code",
   "execution_count": 41,
   "metadata": {
    "collapsed": false,
    "slideshow": {
     "slide_type": "fragment"
    }
   },
   "outputs": [
    {
     "data": {
      "text/plain": [
       "[Row(word1=u'o', word2=u'clock', pair_count=11, count1=44, count2=14, ratio=3908.5108880848975),\n",
       " Row(word1=u'dough', word2=u'boy', pair_count=15, count1=17, count2=58, ratio=3329.7660623700663),\n",
       " Row(word1=u'cape', word2=u'horn', pair_count=13, count1=39, count2=27, ratio=2702.180688128714),\n",
       " Row(word1=u'town', word2=u'ho', pair_count=12, count1=32, count2=31, ratio=2647.7008807314105),\n",
       " Row(word1=u'moby', word2=u'dick', pair_count=67, count1=85, count2=67, ratio=2575.019169453124),\n",
       " Row(word1=u'try', word2=u'works', pair_count=14, count1=52, count2=25, ratio=2357.1327864204377),\n",
       " Row(word1=u'new', word2=u'bedford', pair_count=14, count1=99, count2=14, ratio=2210.874655617946),\n",
       " Row(word1=u'ha', word2=u'ha', pair_count=11, count1=36, count2=36, ratio=1857.7490421698274),\n",
       " Row(word1=u'she', word2=u'blows', pair_count=18, count1=119, count2=23, ratio=1439.4515457407115),\n",
       " Row(word1=u'chief', word2=u'mate', pair_count=16, count1=37, count2=72, ratio=1314.5743031513541)]"
      ]
     },
     "execution_count": 41,
     "metadata": {},
     "output_type": "execute_result"
    }
   ],
   "source": [
    "table3=table2.filter(table2.pair_count > 10).sort('ratio', ascending=False).cache()\n",
    "\n",
    "table3.drop('pair_prob').drop('P1').drop('P2').take(10)"
   ]
  },
  {
   "cell_type": "markdown",
   "metadata": {
    "slideshow": {
     "slide_type": "slide"
    }
   },
   "source": [
    "### More than 50 occurances\n",
    "We see some more pairs that are related to moby dick such as **sperm whale** but we also start to see pairs that are generic english: `more than, had been` etc. (*problem with high frequency filter*).\n",
    "\n"
   ]
  },
  {
   "cell_type": "code",
   "execution_count": 43,
   "metadata": {
    "collapsed": false,
    "slideshow": {
     "slide_type": "fragment"
    }
   },
   "outputs": [
    {
     "data": {
      "text/plain": [
       "[Row(word1=u'moby', word2=u'dick', pair_count=67, count1=85, count2=67, ratio=2575.019169453124),\n",
       " Row(word1=u'don', word2=u't', pair_count=118, count1=137, count2=284, ratio=663.8079905451489),\n",
       " Row(word1=u'sperm', word2=u'whale', pair_count=169, count1=243, count2=1132, ratio=134.4724567819884),\n",
       " Row(word1=u'at', word2=u'least', pair_count=52, count1=1317, count2=72, ratio=120.0285180598414),\n",
       " Row(word1=u'at', word2=u'last', pair_count=138, count1=1317, count2=262, ratio=87.53693588689998),\n",
       " Row(word1=u'i', word2=u'am', pair_count=73, count1=2098, count2=90, ratio=84.62024021811342),\n",
       " Row(word1=u'have', word2=u'been', pair_count=120, count1=766, count2=412, ratio=83.22516361899197),\n",
       " Row(word1=u'more', word2=u'than', pair_count=57, count1=492, count2=309, ratio=82.06361025530641),\n",
       " Row(word1=u'had', word2=u'been', pair_count=115, count1=775, count2=412, ratio=78.83122505432115),\n",
       " Row(word1=u'old', word2=u'man', pair_count=76, count1=448, count2=485, ratio=76.55846428917685)]"
      ]
     },
     "execution_count": 43,
     "metadata": {},
     "output_type": "execute_result"
    }
   ],
   "source": [
    "table3=table2.filter(table2.pair_count > 50).sort('ratio', ascending=False).cache()\n",
    "\n",
    "table3.drop('pair_prob').drop('P1').drop('P2').take(10)"
   ]
  }
 ],
 "metadata": {
  "kernelspec": {
   "display_name": "Python 2",
   "language": "python",
   "name": "python2"
  },
  "language_info": {
   "codemirror_mode": {
    "name": "ipython",
    "version": 2
   },
   "file_extension": ".py",
   "mimetype": "text/x-python",
   "name": "python",
   "nbconvert_exporter": "python",
   "pygments_lexer": "ipython2",
   "version": "2.7.9"
  }
 },
 "nbformat": 4,
 "nbformat_minor": 0
}
