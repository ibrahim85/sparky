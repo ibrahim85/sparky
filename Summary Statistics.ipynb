{
 "cells": [
  {
   "cell_type": "markdown",
   "metadata": {
    "collapsed": true
   },
   "source": [
    "# PCA\n",
    "Suppose that the data vectors are the column vectors denoted $x$ after being centered $\\mu$. Then the covariance matrix is defined to be\n",
    "$$\n",
    "E(x x^\\top)-E(x)E(x)^\\top\n",
    "$$\n",
    "\n",
    "Where $x x^T$ is the **outer product** of $x$ with itself.\n",
    "\n",
    "Convetions: subscript as data points indexing. \n",
    "\n",
    "If the data that we have is $x_1,x_2,x_n$ then the estimates we use are:\n",
    "$$\n",
    "\\hat{E}(x x^\\top) = \\frac{1}{n} \\sum_{i=1}^n x_i x_i^\\top,\\;\\;\\;\\;\\;\n",
    "\\hat{E}(x) = \\frac{1}{n} \\sum_{i=1}^n x_i\n",
    "$$\n",
    "\n",
    "# Regression\n",
    "$$ \n",
    "L(\\vec{w},a) = \\frac{1}{n}\\sum_{i=1}^n (\\vec{w} \\cdot \\vec{x}_i +a - y_i)^2 \n",
    "$$\n",
    "\n",
    "`LinearRegressionWithSGD`, `RidgeRegressionWithSGD`\n",
    "\n",
    "# K-means\n",
    "`KMeans`, `KMeansModel`\n",
    "\n",
    "## Clustering Consistency\n",
    "Multi-run Clustering Entropy.\n",
    "\n",
    "$$\n",
    "H(G^{(1)}, G^{(2)}) = H(D) \n",
    "$$\n",
    "\n",
    "For $i$-th element in $D$, $D_i$ is for $i$-th data point $X^{(i)}$, with the probability/frequency of tuple $(r^{(1)}_i, r^{(2)}_i)$, where $r^{(t)}_i$ is the centroid of the cluster containing $X^{(i)}$ in clustering run $G^{(t)}$.\n",
    "\n",
    "Test the consistency of different clustering runs.\n",
    "```py\n",
    "for r in range(RUNS):\n",
    "    count = defaultdict(int)\n",
    "    for dp, cluster in group:  # cluster hereby represented by its center point \n",
    "        cluster_vec = ','.join(map(str, cluster[:r+1]))\n",
    "        count[cluster_vec] += 1\n",
    "        \n",
    "    entropy.append(compute_entropy(count.values()))  # frequency vector \n",
    "```\n",
    "\n",
    "# Ensemble\n",
    "`GradientBoostedTrees`, `RandomForest`\n",
    "\n"
   ]
  }
 ],
 "metadata": {
  "kernelspec": {
   "display_name": "Python 2",
   "language": "python",
   "name": "python2"
  },
  "language_info": {
   "codemirror_mode": {
    "name": "ipython",
    "version": 2
   },
   "file_extension": ".py",
   "mimetype": "text/x-python",
   "name": "python",
   "nbconvert_exporter": "python",
   "pygments_lexer": "ipython2",
   "version": "2.7.9"
  }
 },
 "nbformat": 4,
 "nbformat_minor": 0
}
