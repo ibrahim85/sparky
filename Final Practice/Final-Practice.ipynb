{
 "cells": [
  {
   "cell_type": "markdown",
   "metadata": {},
   "source": [
    "## Practice Final Exam Questions"
   ]
  },
  {
   "cell_type": "markdown",
   "metadata": {},
   "source": [
    "### Warm-up Questions"
   ]
  },
  {
   "cell_type": "markdown",
   "metadata": {},
   "source": [
    "1.)\n",
    "\n",
    "Print the number of elements in the RDD B\n",
    "\n",
    "Print the first five elements of RDD B"
   ]
  },
  {
   "cell_type": "code",
   "execution_count": 1,
   "metadata": {
    "collapsed": false
   },
   "outputs": [
    {
     "data": {
      "text/plain": [
       "[0, 1, 2, 3, 4]"
      ]
     },
     "execution_count": 1,
     "metadata": {},
     "output_type": "execute_result"
    }
   ],
   "source": [
    "n=10000;\n",
    "B=sc.parallelize(range(n))\n",
    "\n",
    "## Your answer here\n",
    "B.take(5)"
   ]
  },
  {
   "cell_type": "markdown",
   "metadata": {},
   "source": [
    "2.) \n",
    "\n",
    "Given an RDD of words, find and output one of the longest words"
   ]
  },
  {
   "cell_type": "code",
   "execution_count": 5,
   "metadata": {
    "collapsed": false
   },
   "outputs": [
    {
     "data": {
      "text/plain": [
       "'jupyter'"
      ]
     },
     "execution_count": 5,
     "metadata": {},
     "output_type": "execute_result"
    }
   ],
   "source": [
    "words=['this','is','the','best','mac','ever','jupyter']\n",
    "wordRDD=sc.parallelize(words)\n",
    "\n",
    "## Your answer here\n",
    "wordRDD.reduce(lambda x, y: x if len(x) > len(y) else y)"
   ]
  },
  {
   "cell_type": "markdown",
   "metadata": {},
   "source": [
    "3.)\n",
    "\n",
    "Remove duplicate elements in RDD"
   ]
  },
  {
   "cell_type": "code",
   "execution_count": 63,
   "metadata": {
    "collapsed": false
   },
   "outputs": [
    {
     "name": "stdout",
     "output_type": "stream",
     "text": [
      "[2, 1, 3]\n",
      "[2, 1, 3]\n"
     ]
    }
   ],
   "source": [
    "DuplicateRDD = sc.parallelize([1,1,2,2,3,3])\n",
    "\n",
    "## Your answer here\n",
    "print DuplicateRDD.distinct().collect()\n",
    "print DuplicateRDD.map(lambda x: (x, None)).reduceByKey(lambda x, y: None).keys().collect()"
   ]
  },
  {
   "cell_type": "markdown",
   "metadata": {},
   "source": [
    "4.)\n",
    "\n",
    "Given an RDD, create a new RDD where each element appears twice"
   ]
  },
  {
   "cell_type": "code",
   "execution_count": 12,
   "metadata": {
    "collapsed": false
   },
   "outputs": [
    {
     "data": {
      "text/plain": [
       "[0, 0, 1, 1, 2, 2, 3, 3, 4, 4]"
      ]
     },
     "execution_count": 12,
     "metadata": {},
     "output_type": "execute_result"
    }
   ],
   "source": [
    "A=sc.parallelize(range(5))\n",
    "A.flatMap(lambda x: (x, x)).collect()"
   ]
  },
  {
   "cell_type": "markdown",
   "metadata": {},
   "source": [
    "5.)\n",
    "\n",
    "Count how many positive numbers are there in the RDD?"
   ]
  },
  {
   "cell_type": "code",
   "execution_count": 13,
   "metadata": {
    "collapsed": false
   },
   "outputs": [
    {
     "data": {
      "text/plain": [
       "[1, 2, 3, 4, 5, 6, 7, 8, 9, 10, 11, 12, 13, 14, 15, 16, 17, 18, 19]"
      ]
     },
     "execution_count": 13,
     "metadata": {},
     "output_type": "execute_result"
    }
   ],
   "source": [
    "B=sc.parallelize(range(-10,20))\n",
    "\n",
    "## Your answer here\n",
    "B.filter(lambda x: x > 0).collect()"
   ]
  },
  {
   "cell_type": "markdown",
   "metadata": {},
   "source": [
    "### Pair RDD Questions"
   ]
  },
  {
   "cell_type": "markdown",
   "metadata": {},
   "source": [
    "6.)\n",
    "\n",
    "Compute and print the largest value for each key in this pair RDD"
   ]
  },
  {
   "cell_type": "code",
   "execution_count": 15,
   "metadata": {
    "collapsed": false
   },
   "outputs": [
    {
     "data": {
      "text/plain": [
       "[(2, 6), (1, 2)]"
      ]
     },
     "execution_count": 15,
     "metadata": {},
     "output_type": "execute_result"
    }
   ],
   "source": [
    "PairRDD = sc.parallelize([(1,2), (2,4), (2,6)])\n",
    "\n",
    "## Your answer here\n",
    "PairRDD.reduceByKey(lambda x, y: x if x > y else y).collect()"
   ]
  },
  {
   "cell_type": "markdown",
   "metadata": {},
   "source": [
    "7.)\n",
    "\n",
    "Sort a pair RDD by key and print the result"
   ]
  },
  {
   "cell_type": "code",
   "execution_count": 16,
   "metadata": {
    "collapsed": false
   },
   "outputs": [
    {
     "data": {
      "text/plain": [
       "[(1, 4), (2, 2), (2, 1), (3, 6)]"
      ]
     },
     "execution_count": 16,
     "metadata": {},
     "output_type": "execute_result"
    }
   ],
   "source": [
    "PairRDD = sc.parallelize([(2,2),(1,4),(3,6),(2,1)])\n",
    "\n",
    "## Your answer here\n",
    "PairRDD.sortByKey().collect()"
   ]
  },
  {
   "cell_type": "markdown",
   "metadata": {},
   "source": [
    "8.)\n",
    "\n",
    "Perform the following transformation:\n",
    "\n",
    "Original RDD : `[(1, 2), (2, 4), (2, 6)]`\n",
    "\n",
    "After transformation :  `[(2, [4, 6]), (1, [2])]`"
   ]
  },
  {
   "cell_type": "code",
   "execution_count": 18,
   "metadata": {
    "collapsed": false
   },
   "outputs": [
    {
     "data": {
      "text/plain": [
       "[(2, [4, 6]), (1, [2])]"
      ]
     },
     "execution_count": 18,
     "metadata": {},
     "output_type": "execute_result"
    }
   ],
   "source": [
    "## Your answer here\n",
    "rdd = sc.parallelize([(1, 2), (2, 4), (2, 6)])\n",
    "rdd.groupByKey().mapValues(lambda x: sorted(x)).collect()"
   ]
  },
  {
   "cell_type": "markdown",
   "metadata": {},
   "source": [
    "9.)\n",
    "\n",
    "Given two pair RDDs A and B, create the following RDD\n",
    "\n",
    "`[('adam', ('kalai', None)),\n",
    " ('vaclav', (None, 'M')),\n",
    " ('john', ('dow', 'M')),\n",
    " ('beth', ('simon', 'F'))]`"
   ]
  },
  {
   "cell_type": "code",
   "execution_count": 23,
   "metadata": {
    "collapsed": false
   },
   "outputs": [
    {
     "data": {
      "text/plain": [
       "[('adam', ('kalai', None)),\n",
       " ('vaclav', (None, 'M')),\n",
       " ('john', ('dow', 'M')),\n",
       " ('beth', ('simon', 'F'))]"
      ]
     },
     "execution_count": 23,
     "metadata": {},
     "output_type": "execute_result"
    }
   ],
   "source": [
    "A=sc.parallelize([('john','dow'),('adam','kalai'),('beth','simon')])\n",
    "B=sc.parallelize([('beth','F'),('john','M'),('vaclav','M')])\n",
    "\n",
    "## Your answer here\n",
    "A.fullOuterJoin(B).collect()"
   ]
  },
  {
   "cell_type": "markdown",
   "metadata": {},
   "source": [
    "### Statistics Questions"
   ]
  },
  {
   "cell_type": "markdown",
   "metadata": {},
   "source": [
    "10.)\n",
    "\n",
    "Suppose X is an RDD where each element is a floating point value. Write code to **efficiently** compute a good **approximation** of the median value?"
   ]
  },
  {
   "cell_type": "code",
   "execution_count": 72,
   "metadata": {
    "collapsed": false
   },
   "outputs": [
    {
     "data": {
      "text/plain": [
       "0.25239383470230531"
      ]
     },
     "execution_count": 72,
     "metadata": {},
     "output_type": "execute_result"
    }
   ],
   "source": [
    "from numpy.random import rand\n",
    "X = sc.parallelize(rand(10000000)/2)\n",
    "\n",
    "## Your answer here\n",
    "# smaple to approximate \n",
    "XS = X.sample(False, 0.001)\n",
    "n = XS.count()\n",
    "sorted(XS.collect())[n/2]"
   ]
  },
  {
   "cell_type": "markdown",
   "metadata": {},
   "source": [
    "11.)\n",
    "\n",
    "For the same RDD in Q-10, compute the mean and the standard deviation."
   ]
  },
  {
   "cell_type": "code",
   "execution_count": 73,
   "metadata": {
    "collapsed": false
   },
   "outputs": [
    {
     "data": {
      "text/plain": [
       "0.25160865498288371"
      ]
     },
     "execution_count": 73,
     "metadata": {},
     "output_type": "execute_result"
    }
   ],
   "source": [
    "## Your answer here\n",
    "XS.mean()"
   ]
  },
  {
   "cell_type": "code",
   "execution_count": 75,
   "metadata": {
    "collapsed": false
   },
   "outputs": [
    {
     "data": {
      "text/plain": [
       "0.25160865498288337"
      ]
     },
     "execution_count": 75,
     "metadata": {},
     "output_type": "execute_result"
    }
   ],
   "source": [
    "XS.reduce(lambda x, y: x+y) / float(XS.count())"
   ]
  },
  {
   "cell_type": "code",
   "execution_count": 76,
   "metadata": {
    "collapsed": false
   },
   "outputs": [
    {
     "name": "stdout",
     "output_type": "stream",
     "text": [
      "0.144443897983\n",
      "0.144443897983\n"
     ]
    }
   ],
   "source": [
    "print XS.variance()**0.5\n",
    "print XS.stdev()"
   ]
  },
  {
   "cell_type": "code",
   "execution_count": 35,
   "metadata": {
    "collapsed": false
   },
   "outputs": [
    {
     "data": {
      "text/plain": [
       "0.14328773968490066"
      ]
     },
     "execution_count": 35,
     "metadata": {},
     "output_type": "execute_result"
    }
   ],
   "source": [
    "mu = XS.reduce(lambda x, y: x+y) / float(XS.count())\n",
    "var = XS.map(lambda x: (x-mu)**2).reduce(lambda x, y: x+y)/float(X.count())\n",
    "var**0.5"
   ]
  },
  {
   "cell_type": "markdown",
   "metadata": {},
   "source": [
    "12.) \n",
    "\n",
    "Suppose R is an RDD of tuples, each tuple containing two floating point numbers $(x,y)$. Compute the covariance of $x$ and $y$ using a single pass over the RDD."
   ]
  },
  {
   "cell_type": "markdown",
   "metadata": {},
   "source": [
    "The covariance equation:\n",
    "$$\n",
    "cov(X, Y) = E[XY] - E[X]E[Y]\n",
    "$$"
   ]
  },
  {
   "cell_type": "code",
   "execution_count": 58,
   "metadata": {
    "collapsed": false
   },
   "outputs": [
    {
     "data": {
      "text/plain": [
       "2.0154447323751992"
      ]
     },
     "execution_count": 58,
     "metadata": {},
     "output_type": "execute_result"
    }
   ],
   "source": [
    "n = 10000\n",
    "a = rand(n); b = rand(n)\n",
    "R = sc.parallelize(zip(5*a+b,5*a-b))\n",
    "\n",
    "## Your answer here\n",
    "E = R.map(lambda (x, y): (x*y/n, x/n, y/n)).reduce(lambda (a, b, c), (x, y, z): (a+x, b+y, c+z))\n",
    "E[0] - E[1]*E[2]"
   ]
  },
  {
   "cell_type": "markdown",
   "metadata": {},
   "source": [
    "13.)\n",
    "\n",
    "Suppose R is an RDD that contains integer numbers in the range 0 to 3. Write code to efficiently compute and plot an approximate histogram."
   ]
  },
  {
   "cell_type": "code",
   "execution_count": 48,
   "metadata": {
    "collapsed": false
   },
   "outputs": [
    {
     "data": {
      "text/plain": [
       "[(0, 10000), (2, 15532), (1, 23000), (3, 10000)]"
      ]
     },
     "execution_count": 48,
     "metadata": {},
     "output_type": "execute_result"
    }
   ],
   "source": [
    "X = ([0]*10000+[1]*23000+[2]*15532+[3]*10000)\n",
    "# X = ([0]*10+[1]*23+[2]*15+[3]*10)\n",
    "# randomize the X by sorting \n",
    "keys = rand(len(X))\n",
    "R = sc.parallelize(zip(keys, X)).cache()\n",
    "R = R.repartitionAndSortWithinPartitions(2).map(lambda x: x[1]) \n",
    "\n",
    "## Your answer here\n",
    "# X = X.sample(False, 0.1)  # sample to approximate \n",
    "R.map(lambda x: (x, 1)).reduceByKey(lambda x, y: x+y).collect()"
   ]
  }
 ],
 "metadata": {
  "kernelspec": {
   "display_name": "Python 2",
   "language": "python",
   "name": "python2"
  },
  "language_info": {
   "codemirror_mode": {
    "name": "ipython",
    "version": 2
   },
   "file_extension": ".py",
   "mimetype": "text/x-python",
   "name": "python",
   "nbconvert_exporter": "python",
   "pygments_lexer": "ipython2",
   "version": "2.7.9"
  }
 },
 "nbformat": 4,
 "nbformat_minor": 0
}
