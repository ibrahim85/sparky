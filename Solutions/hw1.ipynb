{
 "cells": [
  {
   "cell_type": "code",
   "execution_count": 51,
   "metadata": {
    "collapsed": false
   },
   "outputs": [],
   "source": [
    "textRDD = sc.newAPIHadoopFile('../Data/Moby-Dick.txt',\n",
    "                              'org.apache.hadoop.mapreduce.lib.input.TextInputFormat',\n",
    "                              'org.apache.hadoop.io.LongWritable',\n",
    "                              'org.apache.hadoop.io.Text',\n",
    "                               conf={'textinputformat.record.delimiter': \"\\r\\n\\r\\n\"}\n",
    "                             ).map(lambda x: x[1])\n",
    "    \n",
    "sentences = textRDD.flatMap(lambda x: x.split(\". \"))    \n",
    "\n",
    "def printOutput(n, freq_ngramRDD):\n",
    "    top = freq_ngramRDD.take(5)\n",
    "    print '\\n============ %d most frequent %d-grams'%(5, n)\n",
    "    print '\\nindex\\tcount\\tngram'\n",
    "    for i in xrange(5):\n",
    "        print '%d.\\t%d: \\t\"%s\"' % (i + 1,top[i][0], ' '.join(top[i][1]))\n",
    "\n",
    "import re, string\n",
    "\n",
    "# setence level \n",
    "words = (sentences.map(lambda x: re.sub('[%s]' % re.escape(string.punctuation), ' ', x))\n",
    "                  .map(lambda x: filter(lambda x: x != '', x.lower().replace('\\r\\n', ' ').split(' ')))\n",
    "        )\n",
    "\n",
    "def get_ngrams(lst, n):\n",
    "    for i in xrange(len(lst)-n+1):  # edge condition \n",
    "        yield tuple(lst[i:i+n])  # joined at the final output. tuple here instead\n",
    "        \n",
    "def ngrams_stats(words, n):\n",
    "    grams = words.flatMap(lambda x: get_ngrams(x, n))  # closure for n\n",
    "\n",
    "    grams_stats = grams.map(lambda x: (x, 1)).reduceByKey(lambda a, b: a + b)\n",
    "    grams_reverse_stats = grams_stats.map(lambda p: (p[1], p[0])).sortByKey(False)\n",
    "    return grams_reverse_stats"
   ]
  },
  {
   "cell_type": "code",
   "execution_count": 52,
   "metadata": {
    "collapsed": false
   },
   "outputs": [
    {
     "name": "stdout",
     "output_type": "stream",
     "text": [
      "\n",
      "============ 5 most frequent 1-grams\n",
      "\n",
      "index\tcount\tngram\n",
      "1.\t14620: \t\"the\"\n",
      "2.\t6732: \t\"of\"\n",
      "3.\t6502: \t\"and\"\n",
      "4.\t4799: \t\"a\"\n",
      "5.\t4706: \t\"to\"\n",
      "\n",
      "============ 5 most frequent 2-grams\n",
      "\n",
      "index\tcount\tngram\n",
      "1.\t1906: \t\"of the\"\n",
      "2.\t1193: \t\"in the\"\n",
      "3.\t746: \t\"to the\"\n",
      "4.\t444: \t\"from the\"\n",
      "5.\t413: \t\"the whale\"\n",
      "\n",
      "============ 5 most frequent 3-grams\n",
      "\n",
      "index\tcount\tngram\n",
      "1.\t116: \t\"the sperm whale\"\n",
      "2.\t109: \t\"of the whale\"\n",
      "3.\t88: \t\"the white whale\"\n",
      "4.\t64: \t\"one of the\"\n",
      "5.\t60: \t\"of the sea\"\n",
      "\n",
      "============ 5 most frequent 4-grams\n",
      "\n",
      "index\tcount\tngram\n",
      "1.\t43: \t\"of the sperm whale\"\n",
      "2.\t27: \t\"the sperm whale s\"\n",
      "3.\t20: \t\"at the same time\"\n",
      "4.\t18: \t\"project gutenberg tm electronic\"\n",
      "5.\t18: \t\"of the whale s\"\n",
      "\n",
      "============ 5 most frequent 5-grams\n",
      "\n",
      "index\tcount\tngram\n",
      "1.\t13: \t\"the project gutenberg literary archive\"\n",
      "2.\t13: \t\"project gutenberg literary archive foundation\"\n",
      "3.\t12: \t\"project gutenberg tm electronic works\"\n",
      "4.\t11: \t\"of the sperm whale s\"\n",
      "5.\t10: \t\"and at the same time\"\n"
     ]
    }
   ],
   "source": [
    "for n in xrange(1,6):\n",
    "    freq_ngramRDD = ngrams_stats(words, n)\n",
    "    printOutput(n, freq_ngramRDD)"
   ]
  },
  {
   "cell_type": "code",
   "execution_count": null,
   "metadata": {
    "collapsed": true
   },
   "outputs": [],
   "source": []
  },
  {
   "cell_type": "code",
   "execution_count": null,
   "metadata": {
    "collapsed": true
   },
   "outputs": [],
   "source": []
  }
 ],
 "metadata": {
  "kernelspec": {
   "display_name": "Python 2",
   "language": "python",
   "name": "python2"
  },
  "language_info": {
   "codemirror_mode": {
    "name": "ipython",
    "version": 2
   },
   "file_extension": ".py",
   "mimetype": "text/x-python",
   "name": "python",
   "nbconvert_exporter": "python",
   "pygments_lexer": "ipython2",
   "version": "2.7.9"
  }
 },
 "nbformat": 4,
 "nbformat_minor": 0
}
