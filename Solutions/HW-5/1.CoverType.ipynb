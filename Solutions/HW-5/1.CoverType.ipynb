{
 "cells": [
  {
   "cell_type": "code",
   "execution_count": 14,
   "metadata": {
    "collapsed": false,
    "slideshow": {
     "slide_type": "slide"
    }
   },
   "outputs": [],
   "source": [
    "# Name: Danyang Zhangn\n",
    "# Email: daz040@eng.ucsd.edu\n",
    "# PID: A53104006\n",
    "PYBOLT = False\n",
    "# need to remove %, ! in .py file in order to run on PYBOLT\n",
    "if PYBOLT:\n",
    "    from pyspark import SparkContext\n",
    "    sc = SparkContext()\n",
    "\n",
    "from pyspark.mllib.linalg import Vectors\n",
    "from pyspark.mllib.regression import LabeledPoint\n",
    "import string\n",
    "from pyspark.mllib.tree import GradientBoostedTrees, GradientBoostedTreesModel\n",
    "from pyspark.mllib.util import MLUtils"
   ]
  },
  {
   "cell_type": "markdown",
   "metadata": {
    "slideshow": {
     "slide_type": "slide"
    }
   },
   "source": [
    "### Cover Type\n",
    "\n",
    "Classify geographical locations according to their predicted tree cover:\n",
    "\n",
    "* **URL:** http://archive.ics.uci.edu/ml/datasets/Covertype\n",
    "* **Abstract:** Forest CoverType dataset\n",
    "* **Data Set Description:** http://archive.ics.uci.edu/ml/machine-learning-databases/covtype/covtype.info"
   ]
  },
  {
   "cell_type": "code",
   "execution_count": 15,
   "metadata": {
    "collapsed": false,
    "scrolled": true,
    "slideshow": {
     "slide_type": "slide"
    }
   },
   "outputs": [
    {
     "name": "stdout",
     "output_type": "stream",
     "text": [
      "Tree Cover Types:\n"
     ]
    },
    {
     "data": {
      "text/plain": [
       "{1.0: 'Spruce/Fir',\n",
       " 2.0: 'Lodgepole Pine',\n",
       " 3.0: 'Ponderosa Pine',\n",
       " 4.0: 'Cottonwood/Willow',\n",
       " 5.0: 'Aspen',\n",
       " 6.0: 'Douglas-fir',\n",
       " 7.0: 'Krummholz'}"
      ]
     },
     "execution_count": 15,
     "metadata": {},
     "output_type": "execute_result"
    }
   ],
   "source": [
    "#define a dictionary of cover types\n",
    "CoverTypes = {1.0: 'Spruce/Fir',\n",
    "              2.0: 'Lodgepole Pine',\n",
    "              3.0: 'Ponderosa Pine',\n",
    "              4.0: 'Cottonwood/Willow',\n",
    "              5.0: 'Aspen',\n",
    "              6.0: 'Douglas-fir',\n",
    "              7.0: 'Krummholz' \n",
    "}\n",
    "\n",
    "if not PYBOLT:\n",
    "    print 'Tree Cover Types:'\n",
    "    CoverTypes"
   ]
  },
  {
   "cell_type": "code",
   "execution_count": 16,
   "metadata": {
    "collapsed": false,
    "slideshow": {
     "slide_type": "slide"
    }
   },
   "outputs": [
    {
     "name": "stdout",
     "output_type": "stream",
     "text": [
      "/vagrant/UCSD_BigData_2016/Solutions/HW-5/covtype\n",
      "total 73408\n",
      "-rw-rw-r-- 1 501 dialout 75169317 May 15 17:33 covtype.data\n",
      "/vagrant/UCSD_BigData_2016/Solutions/HW-5\n"
     ]
    }
   ],
   "source": [
    "# creating a directory called covtype, download and decompress covtype.data.gz into it\n",
    "\n",
    "if not PYBOLT:\n",
    "    from os.path import exists\n",
    "    if not exists('covtype'):\n",
    "        print \"creating directory covtype\"\n",
    "        !mkdir covtype\n",
    "    %cd covtype\n",
    "    if not exists('covtype.data'):\n",
    "        if not exists('covtype.data.gz'):\n",
    "            print 'downloading covtype.data.gz'\n",
    "            !curl -O http://archive.ics.uci.edu/ml/machine-learning-databases/covtype/covtype.data.gz\n",
    "        print 'decompressing covtype.data.gz'\n",
    "        !gunzip -f covtype.data.gz\n",
    "    !ls -l\n",
    "    %cd .."
   ]
  },
  {
   "cell_type": "code",
   "execution_count": 17,
   "metadata": {
    "collapsed": false,
    "slideshow": {
     "slide_type": "slide"
    }
   },
   "outputs": [],
   "source": [
    "# Define the feature names\n",
    "cols_txt=\"\"\"\n",
    "Elevation, Aspect, Slope, Horizontal_Distance_To_Hydrology,\n",
    "Vertical_Distance_To_Hydrology, Horizontal_Distance_To_Roadways,\n",
    "Hillshade_9am, Hillshade_Noon, Hillshade_3pm,\n",
    "Horizontal_Distance_To_Fire_Points, Wilderness_Area (4 binarycolumns), \n",
    "Soil_Type (40 binary columns), Cover_Type\n",
    "\"\"\""
   ]
  },
  {
   "cell_type": "code",
   "execution_count": 18,
   "metadata": {
    "collapsed": false
   },
   "outputs": [
    {
     "name": "stdout",
     "output_type": "stream",
     "text": [
      "['Elevation', 'Aspect', 'Slope', 'Horizontal_Distance_To_Hydrology', 'Vertical_Distance_To_Hydrology', 'Horizontal_Distance_To_Roadways', 'Hillshade_9am', 'Hillshade_Noon', 'Hillshade_3pm', 'Horizontal_Distance_To_Fire_Points', 'WA_0', 'WA_1', 'WA_2', 'WA_3', 'ST_0', 'ST_1', 'ST_2', 'ST_3', 'ST_4', 'ST_5', 'ST_6', 'ST_7', 'ST_8', 'ST_9', 'ST_10', 'ST_11', 'ST_12', 'ST_13', 'ST_14', 'ST_15', 'ST_16', 'ST_17', 'ST_18', 'ST_19', 'ST_20', 'ST_21', 'ST_22', 'ST_23', 'ST_24', 'ST_25', 'ST_26', 'ST_27', 'ST_28', 'ST_29', 'ST_30', 'ST_31', 'ST_32', 'ST_33', 'ST_34', 'ST_35', 'ST_36', 'ST_37', 'ST_38', 'ST_39', 'Cover_Type']\n"
     ]
    }
   ],
   "source": [
    "# Break up features that are made out of several binary features.\n",
    "cols = [string.strip(a) for a in string.split(cols_txt, ',')]\n",
    "colDict={a: [a] for a in cols}\n",
    "colDict['Soil_Type (40 binary columns)'] = ['ST_'+str(i) for i in range(40)]\n",
    "colDict['Wilderness_Area (4 binarycolumns)'] = ['WA_'+str(i) for i in range(4)]\n",
    "Columns=[]\n",
    "for item in cols:\n",
    "    Columns.extend(colDict[item])\n",
    "    \n",
    "if not PYBOLT:\n",
    "    print Columns"
   ]
  },
  {
   "cell_type": "code",
   "execution_count": 19,
   "metadata": {
    "collapsed": false,
    "slideshow": {
     "slide_type": "slide"
    }
   },
   "outputs": [
    {
     "name": "stdout",
     "output_type": "stream",
     "text": [
      "2596,51,3,258,0,510,221,232,148,6279,1,0,0,0,0,0,0,0,0,0,0,0,0,0,0,0,0,0,0,0,0,0,0,0,0,0,0,0,0,0,0,0,1,0,0,0,0,0,0,0,0,0,0,0,5\r\n",
      "2590,56,2,212,-6,390,220,235,151,6225,1,0,0,0,0,0,0,0,0,0,0,0,0,0,0,0,0,0,0,0,0,0,0,0,0,0,0,0,0,0,0,0,1,0,0,0,0,0,0,0,0,0,0,0,5\r\n"
     ]
    }
   ],
   "source": [
    "# Have a look at the first two lines of the data file\n",
    "if not PYBOLT:\n",
    "    !head -2 covtype/covtype.data"
   ]
  },
  {
   "cell_type": "code",
   "execution_count": 27,
   "metadata": {
    "collapsed": false,
    "slideshow": {
     "slide_type": "fragment"
    }
   },
   "outputs": [
    {
     "data": {
      "text/plain": [
       "u'2596,51,3,258,0,510,221,232,148,6279,1,0,0,0,0,0,0,0,0,0,0,0,0,0,0,0,0,0,0,0,0,0,0,0,0,0,0,0,0,0,0,0,1,0,0,0,0,0,0,0,0,0,0,0,5'"
      ]
     },
     "execution_count": 27,
     "metadata": {},
     "output_type": "execute_result"
    }
   ],
   "source": [
    "# Read the file into an RDD\n",
    "# If doing this on a real cluster, you need the file to be available on all nodes, ideally in HDFS.\n",
    "if not PYBOLT:\n",
    "    path = 'covtype/covtype.data'\n",
    "else:\n",
    "    path = '/covtype/covtype.data'\n",
    "    \n",
    "inputRDD = sc.textFile(path)\n",
    "inputRDD.first()"
   ]
  },
  {
   "cell_type": "code",
   "execution_count": 21,
   "metadata": {
    "collapsed": false,
    "slideshow": {
     "slide_type": "subslide"
    }
   },
   "outputs": [
    {
     "data": {
      "text/plain": [
       "LabeledPoint(5.0, [2596.0,51.0,3.0,258.0,0.0,510.0,221.0,232.0,148.0,6279.0,1.0,0.0,0.0,0.0,0.0,0.0,0.0,0.0,0.0,0.0,0.0,0.0,0.0,0.0,0.0,0.0,0.0,0.0,0.0,0.0,0.0,0.0,0.0,0.0,0.0,0.0,0.0,0.0,0.0,0.0,0.0,0.0,1.0,0.0,0.0,0.0,0.0,0.0,0.0,0.0,0.0,0.0,0.0,0.0])"
      ]
     },
     "execution_count": 21,
     "metadata": {},
     "output_type": "execute_result"
    }
   ],
   "source": [
    "# Transform the text RDD into an RDD of LabeledPoints\n",
    "Data=inputRDD.map(lambda line: [float(string.strip(x)) for x in line.split(',')])\\\n",
    "     .map(lambda p: LabeledPoint(p[-1], p[:-1]))\n",
    "Data.first()\n",
    "        "
   ]
  },
  {
   "cell_type": "code",
   "execution_count": 22,
   "metadata": {
    "collapsed": false,
    "scrolled": true,
    "slideshow": {
     "slide_type": "subslide"
    }
   },
   "outputs": [
    {
     "name": "stdout",
     "output_type": "stream",
     "text": [
      "total data size= 581012\n",
      "              type (label):   percent of total\n",
      "---------------------------------------------------------\n",
      "      Lodgepole Pine (2.0):\t48.76\n",
      "          Spruce/Fir (1.0):\t36.46\n",
      "      Ponderosa Pine (3.0):\t6.15\n",
      "           Krummholz (7.0):\t3.53\n",
      "         Douglas-fir (6.0):\t2.99\n",
      "               Aspen (5.0):\t1.63\n",
      "   Cottonwood/Willow (4.0):\t0.47\n"
     ]
    }
   ],
   "source": [
    "# count the number of examples of each type\n",
    "if not PYBOLT:\n",
    "    total=Data.cache().count()\n",
    "    print 'total data size=', total\n",
    "    counts=Data.map(lambda p: (p.label, 1)).reduceByKey(lambda a, b: a+b).collect()\n",
    "\n",
    "    counts.sort(key=lambda x: x[1], reverse=True)\n",
    "    print '              type (label):   percent of total'\n",
    "    print '---------------------------------------------------------'\n",
    "    print '\\n'.join(['%20s (%3.1f):\\t%4.2f'%(CoverTypes[a[0]], a[0], 100.0*a[1]/float(total)) for a in counts])"
   ]
  },
  {
   "cell_type": "markdown",
   "metadata": {
    "slideshow": {
     "slide_type": "subslide"
    }
   },
   "source": [
    "### Making the problem binary\n",
    "\n",
    "The implementation of BoostedGradientTrees in MLLib supports only binary problems. the `CovType` problem has\n",
    "7 classes. To make the problem binary we choose the `Lodgepole Pine` (label = 2.0). We therefore transform the dataset to a new dataset where the label is `1.0` is the class is `Lodgepole Pine` and is `0.0` otherwise.\n",
    "\n",
    "$\\rightarrow$ 1-vs-all"
   ]
  },
  {
   "cell_type": "code",
   "execution_count": 23,
   "metadata": {
    "collapsed": false,
    "slideshow": {
     "slide_type": "fragment"
    }
   },
   "outputs": [],
   "source": [
    "Label = 2.0\n",
    "Data = inputRDD.map(lambda line: [float(x) for x in line.split(',')])\\\n",
    "       .map(lambda p: LabeledPoint(1.0 if p[-1] == Label else 0.0, p[:-1]))"
   ]
  },
  {
   "cell_type": "markdown",
   "metadata": {
    "slideshow": {
     "slide_type": "slide"
    }
   },
   "source": [
    "### Reducing data size\n",
    "In order to see the effects of overfitting more clearly, we reduce the size of the data by a factor of 10"
   ]
  },
  {
   "cell_type": "code",
   "execution_count": 24,
   "metadata": {
    "collapsed": false,
    "slideshow": {
     "slide_type": "fragment"
    }
   },
   "outputs": [
    {
     "name": "stdout",
     "output_type": "stream",
     "text": [
      "Sizes: Data1=58057, trainingData=40856, testData=17201\n"
     ]
    }
   ],
   "source": [
    "# Data1, .1 data \n",
    "if not PYBOLT:\n",
    "    Data1 = Data.sample(False, 0.1, seed=255).cache()\n",
    "else:\n",
    "    Data1 = Data.cache()\n",
    "    \n",
    "(trainingData, testData)=Data1.randomSplit([0.7, 0.3], seed=255)\n",
    "\n",
    "if not PYBOLT:\n",
    "    # TODO: expected output - Sizes: Data1=58022, trainingData=40674, testData=17348\n",
    "    print 'Sizes: Data1=%d, trainingData=%d, testData=%d'%(Data1.count(), trainingData.cache().count(), testData.cache().count())"
   ]
  },
  {
   "cell_type": "code",
   "execution_count": 25,
   "metadata": {
    "collapsed": false
   },
   "outputs": [
    {
     "data": {
      "text/plain": [
       "[(0.0, 8927), (1.0, 8274)]"
      ]
     },
     "execution_count": 25,
     "metadata": {},
     "output_type": "execute_result"
    }
   ],
   "source": [
    "counts = testData.map(lambda lp: (lp.label, 1)).reduceByKey(lambda x,y: x+y).collect()\n",
    "counts.sort(key=lambda x:x[1],reverse=True)\n",
    "counts"
   ]
  },
  {
   "cell_type": "markdown",
   "metadata": {
    "slideshow": {
     "slide_type": "slide"
    }
   },
   "source": [
    "### Gradient Boosted Trees\n",
    "\n",
    "* Following [this example](http://spark.apache.org/docs/latest/mllib-ensembles.html#gradient-boosted-trees-gbts) from the mllib documentation\n",
    "\n",
    "* [pyspark.mllib.tree.GradientBoostedTrees documentation](http://spark.apache.org/docs/latest/api/python/pyspark.mllib.html#pyspark.mllib.tree.GradientBoostedTrees)\n",
    "\n",
    "#### Main classes and methods\n",
    "\n",
    "* `GradientBoostedTrees` is the class that implements the learning trainClassifier,\n",
    "   * It's main method is `trainClassifier(trainingData)` which takes as input a training set and generates an instance of `GradientBoostedTreesModel`\n",
    "   * The main parameter from train Classifier are:\n",
    "      * **data** – Training dataset: RDD of LabeledPoint. Labels should take values {0, 1}.\n",
    "      * categoricalFeaturesInfo – Map storing arity of categorical features. E.g., an entry (n -> k) indicates that feature n is categorical with k categories indexed from 0: {0, 1, ..., k-1}.\n",
    "      * **loss** – Loss function used for minimization during gradient boosting. Supported: {“logLoss” (default), “leastSquaresError”, “leastAbsoluteError”}.\n",
    "      * **numIterations** – Number of iterations of boosting. (default: 100)\n",
    "      * **learningRate** – Learning rate for shrinking the contribution of each estimator. The learning rate should be between in the interval (0, 1]. (default: 0.1)\n",
    "      * **maxDepth** – Maximum depth of the tree. E.g., depth 0 means 1 leaf node; depth 1 means 1 internal node + 2 leaf nodes. (default: 3)\n",
    "      * **maxBins** – maximum number of bins used for splitting features (default: 32) DecisionTree requires maxBins >= max categories\n",
    "      \n",
    "      \n",
    "* `GradientBoostedTreesModel` represents the output of the boosting process: a linear combination of classification trees. The methods supported by this class are:\n",
    "   * `save(sc, path)` : save the tree to a given filename, sc is the Spark Context.\n",
    "   * `load(sc,path)` : The counterpart to save - load classifier from file.\n",
    "   * `predict(X)` : predict on a single datapoint (the `.features` field of a `LabeledPont`) or an RDD of datapoints.\n",
    "   * `toDebugString()` : print the classifier in a human readable format."
   ]
  },
  {
   "cell_type": "code",
   "execution_count": 26,
   "metadata": {
    "collapsed": false,
    "slideshow": {
     "slide_type": "subslide"
    }
   },
   "outputs": [
    {
     "name": "stdout",
     "output_type": "stream",
     "text": [
      "1 {'test': 0.27998372187663506, 'train': 0.2777560211474447} 11 seconds\n",
      "3 {'test': 0.2521946398465206, 'train': 0.25061190522811827} 13 seconds\n",
      "6 {'test': 0.21330155223533515, 'train': 0.20569806148423733} 12 seconds\n",
      "10 {'test': 0.17219929073891052, 'train': 0.1324897199921676} 22 seconds\n",
      "15 {'test': 0.14063135864193943, 'train': 0.02890640297630703} 90 seconds\n",
      "20 {'test': 0.1430149409918028, 'train': 0.0011993342471118074} 211 seconds\n",
      "{1: {'test': 0.27998372187663506, 'train': 0.2777560211474447}, 3: {'test': 0.2521946398465206, 'train': 0.25061190522811827}, 6: {'test': 0.21330155223533515, 'train': 0.20569806148423733}, 10: {'test': 0.17219929073891052, 'train': 0.1324897199921676}, 15: {'test': 0.14063135864193943, 'train': 0.02890640297630703}, 20: {'test': 0.1430149409918028, 'train': 0.0011993342471118074}}\n"
     ]
    }
   ],
   "source": [
    "from time import time\n",
    "errors = {}\n",
    "\n",
    "if not PYBOLT:\n",
    "    depths = [1, 3, 6, 10, 15, 20]\n",
    "else:\n",
    "    depths = [15]\n",
    "\n",
    "for depth in depths:\n",
    "    start = time()\n",
    "    model = GradientBoostedTrees.trainClassifier(trainingData, {}, maxDepth=depth, numIterations=10)\n",
    "    # numIterations is the numTrees\n",
    "    #print model.toDebugString()\n",
    "    \n",
    "    errors[depth] = {}\n",
    "    dataSets = {'train': trainingData, 'test': testData}\n",
    "    for name in dataSets.keys():  # Calculate errors on TRAIN and TEST sets\n",
    "        data = dataSets[name]\n",
    "        Predicted = model.predict(data.map(lambda x: x.features))  \n",
    "        LabelsAndPredictions = data.map(lambda x: x.label).zip(Predicted)\n",
    "        Err = LabelsAndPredictions.filter(lambda (v, p): v != p).count()/float(data.count())  # zip\n",
    "        errors[depth][name] = Err\n",
    "    if not PYBOLT:\n",
    "        print depth, errors[depth], int(time()-start), 'seconds'\n",
    "    else:\n",
    "        print depth, errors[depth]\n",
    "\n",
    "if not PYBOLT:\n",
    "    print errors"
   ]
  },
  {
   "cell_type": "code",
   "execution_count": 34,
   "metadata": {
    "collapsed": false
   },
   "outputs": [
    {
     "data": {
      "image/png": "[encoded data removed]",
      "text/plain": [
       "<matplotlib.figure.Figure at 0x7f7b1bd87ad0>"
      ]
     },
     "metadata": {},
     "output_type": "display_data"
    }
   ],
   "source": [
    "if not PYBOLT:\n",
    "    B10 = errors\n",
    "\n",
    "    # Plot Train/test accuracy vs Depth of trees graph\n",
    "    %matplotlib inline\n",
    "    from plot_utils import *\n",
    "    make_figure([B10], ['10Trees'], Title='Boosting using 10% of data')"
   ]
  },
  {
   "cell_type": "markdown",
   "metadata": {
    "collapsed": true
   },
   "source": [
    "### Random Forests\n",
    "\n",
    "* Following [this example](http://spark.apache.org/docs/latest/mllib-ensembles.html#classification) from the mllib documentation\n",
    "\n",
    "* [pyspark.mllib.trees.RandomForest documentation](http://spark.apache.org/docs/latest/api/python/pyspark.mllib.html#pyspark.mllib.tree.RandomForest)\n",
    "\n",
    "**trainClassifier**`(data, numClasses, categoricalFeaturesInfo, numTrees, featureSubsetStrategy='auto', impurity='gini', maxDepth=4, maxBins=32, seed=None)`   \n",
    "Method to train a decision tree model for binary or multiclass classification.\n",
    "\n",
    "**Parameters:**  \n",
    "* *data* – Training dataset: RDD of LabeledPoint. Labels should take values {0, 1, ..., numClasses-1}.  \n",
    "* *numClasses* – number of classes for classification.  \n",
    "* *categoricalFeaturesInfo* – Map storing arity of categorical features. E.g., an entry (n -> k) indicates that feature n is categorical with k categories indexed from 0: {0, 1, ..., k-1}.  \n",
    "* *numTrees* – Number of trees in the random forest.  \n",
    "* *featureSubsetStrategy* – Number of features to consider for splits at each node. Supported: “auto” (default), “all”, “sqrt”, “log2”, “onethird”. If “auto” is set, this parameter is set based on numTrees: if numTrees == 1, set to “all”; if numTrees > 1 (forest) set to “sqrt”.\n",
    "* *impurity* – Criterion used for information gain calculation. Supported values: “gini” (recommended) or “entropy”.  \n",
    "* *maxDepth* – Maximum depth of the tree. E.g., depth 0 means 1 leaf node; depth 1 means 1 internal node + 2 leaf nodes. (default: 4)  \n",
    "* *maxBins* – maximum number of bins used for splitting features (default: 32)\n",
    "* *seed* – Random seed for bootstrapping and choosing feature subsets.  \n",
    "\n",
    "**Returns:**\t\n",
    "RandomForestModel that can be used for prediction"
   ]
  },
  {
   "cell_type": "code",
   "execution_count": 29,
   "metadata": {
    "collapsed": false
   },
   "outputs": [
    {
     "name": "stdout",
     "output_type": "stream",
     "text": [
      "1 {'test': 0.41927794895645604, 'train': 0.4217006070099863} 2 seconds\n",
      "3 {'test': 0.41730131969071566, 'train': 0.4057910710789113} 2 seconds\n",
      "6 {'test': 0.2762048718097785, 'train': 0.27677697278245544} 3 seconds\n",
      "10 {'test': 0.23963723039358176, 'train': 0.23183865282944977} 4 seconds\n",
      "15 {'test': 0.19934887506540316, 'train': 0.17975327981202271} 5 seconds\n",
      "20 {'test': 0.18731469100633685, 'train': 0.15346583121206187} 9 seconds\n",
      "{1: {'test': 0.41927794895645604, 'train': 0.4217006070099863}, 3: {'test': 0.41730131969071566, 'train': 0.4057910710789113}, 6: {'test': 0.2762048718097785, 'train': 0.27677697278245544}, 10: {'test': 0.23963723039358176, 'train': 0.23183865282944977}, 15: {'test': 0.19934887506540316, 'train': 0.17975327981202271}, 20: {'test': 0.18731469100633685, 'train': 0.15346583121206187}}\n"
     ]
    }
   ],
   "source": [
    "if not PYBOLT:\n",
    "    from time import time\n",
    "    from pyspark.mllib.tree import RandomForest\n",
    "    errors={}\n",
    "    for depth in [1, 3, 6, 10, 15, 20]:\n",
    "        start=time()\n",
    "        model = RandomForest.trainClassifier(trainingData, 2, {}, maxDepth=depth, numTrees=10)\n",
    "        #print model.toDebugString()\n",
    "        errors[depth]={}\n",
    "        dataSets={'train':trainingData,'test':testData}\n",
    "        for name in dataSets.keys():  # Calculate errors on train and test sets\n",
    "            data = dataSets[name]\n",
    "            Predicted = model.predict(data.map(lambda x: x.features))  \n",
    "            LabelsAndPredictions = data.map(lambda x: x.label).zip(Predicted)\n",
    "            Err = LabelsAndPredictions.filter(lambda (v, p): v != p).count()/float(data.count())  # zip\n",
    "            errors[depth][name] = Err\n",
    "\n",
    "        print depth,errors[depth],int(time()-start),'seconds'\n",
    "    print errors"
   ]
  },
  {
   "cell_type": "code",
   "execution_count": 32,
   "metadata": {
    "collapsed": false
   },
   "outputs": [
    {
     "data": {
      "image/png": "[encoded data removed]",
      "text/plain": [
       "<matplotlib.figure.Figure at 0x7f7b1bf54b90>"
      ]
     },
     "metadata": {},
     "output_type": "display_data"
    }
   ],
   "source": [
    "if not PYBOLT:\n",
    "    RF_10trees = errors\n",
    "    # Plot Train/test accuracy vs Depth of trees graph\n",
    "    make_figure([RF_10trees], ['10Trees'], Title='Random Forests using 10% of data')"
   ]
  },
  {
   "cell_type": "markdown",
   "metadata": {},
   "source": [
    "### Now plot B10 and RF_10trees performance curves in the same graph"
   ]
  },
  {
   "cell_type": "code",
   "execution_count": 33,
   "metadata": {
    "collapsed": false
   },
   "outputs": [
    {
     "data": {
      "image/png": "[encoded data removed]",
      "text/plain": [
       "<matplotlib.figure.Figure at 0x7f7b1beab150>"
      ]
     },
     "metadata": {},
     "output_type": "display_data"
    }
   ],
   "source": [
    "if not PYBOLT:\n",
    "    make_figure([B10, RF_10trees], ['Boosting10Trees', 'RandomForest10Trees'], \n",
    "                Title='Boosting/RandomForest using 10% of data')"
   ]
  },
  {
   "cell_type": "code",
   "execution_count": null,
   "metadata": {
    "collapsed": true
   },
   "outputs": [],
   "source": []
  }
 ],
 "metadata": {
  "celltoolbar": "Slideshow",
  "kernelspec": {
   "display_name": "Python 2",
   "language": "python",
   "name": "python2"
  },
  "language_info": {
   "codemirror_mode": {
    "name": "ipython",
    "version": 2
   },
   "file_extension": ".py",
   "mimetype": "text/x-python",
   "name": "python",
   "nbconvert_exporter": "python",
   "pygments_lexer": "ipython2",
   "version": "2.7.9"
  }
 },
 "nbformat": 4,
 "nbformat_minor": 0
}
