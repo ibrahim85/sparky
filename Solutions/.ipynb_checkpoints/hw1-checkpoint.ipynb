{
 "cells": [
  {
   "cell_type": "code",
   "execution_count": 1,
   "metadata": {
    "collapsed": true
   },
   "outputs": [],
   "source": [
    "textRDD = sc.newAPIHadoopFile('../Data/Moby-Dick.txt',\n",
    "                              'org.apache.hadoop.mapreduce.lib.input.TextInputFormat',\n",
    "                              'org.apache.hadoop.io.LongWritable',\n",
    "                              'org.apache.hadoop.io.Text',\n",
    "                               conf={'textinputformat.record.delimiter': \"\\r\\n\\r\\n\"}\n",
    "                             ).map(lambda x: x[1])\n",
    "    \n",
    "sentences=textRDD.flatMap(lambda x: x.split(\". \"))    "
   ]
  },
  {
   "cell_type": "code",
   "execution_count": 3,
   "metadata": {
    "collapsed": true
   },
   "outputs": [],
   "source": [
    "def printOutput(n, freq_ngramRDD):\n",
    "    top = freq_ngramRDD.take(5)\n",
    "    print '\\n============ %d most frequent %d-grams'%(5, n)\n",
    "    print '\\nindex\\tcount\\tngram'\n",
    "    for i in xrange(5):\n",
    "        print '%d.\\t%d: \\t\"%s\"' % (i + 1,top[i][0], ' '.join(top[i][1]))        "
   ]
  },
  {
   "cell_type": "code",
   "execution_count": 4,
   "metadata": {
    "collapsed": false
   },
   "outputs": [
    {
     "name": "stdout",
     "output_type": "stream",
     "text": [
      "!\"#$%&'()*+,-./:;<=>?@[\\]^_`{|}~\n"
     ]
    }
   ],
   "source": [
    "import re, string"
   ]
  },
  {
   "cell_type": "code",
   "execution_count": null,
   "metadata": {
    "collapsed": true
   },
   "outputs": [],
   "source": [
    "# setence level \n",
    "words = sentences.map(lambda x: re.sub('[%s]' % re.escape(string.punctuation), '', x)\n",
    "        ).map(lambda x: map(x.strip(), x.split(\" \")))\n",
    "\n",
    "n = 3 \n",
    "def get_ngrams(lst, n):\n",
    "    ret = []\n",
    "    for i in xrange(len(lst)-n):\n",
    "        ret.append(lst[i:i+n])\n",
    "    \n",
    "grams = words.flatMap(lambda x: get_ngrams(x, n))  # closure for n?\n",
    "grams_stats = grams.map(lambda x: (x, 1)\n",
    "        ).reruceByKey()\n"
   ]
  }
 ],
 "metadata": {
  "kernelspec": {
   "display_name": "Python 2",
   "language": "python",
   "name": "python2"
  },
  "language_info": {
   "codemirror_mode": {
    "name": "ipython",
    "version": 2
   },
   "file_extension": ".py",
   "mimetype": "text/x-python",
   "name": "python",
   "nbconvert_exporter": "python",
   "pygments_lexer": "ipython2",
   "version": "2.7.9"
  }
 },
 "nbformat": 4,
 "nbformat_minor": 0
}
